{
 "cells": [
  {
   "cell_type": "code",
   "execution_count": 1,
   "id": "75d495a7",
   "metadata": {},
   "outputs": [
    {
     "name": "stdout",
     "output_type": "stream",
     "text": [
      "Shape of data: (4846, 2)\n"
     ]
    },
    {
     "data": {
      "text/html": [
       "<div>\n",
       "<style scoped>\n",
       "    .dataframe tbody tr th:only-of-type {\n",
       "        vertical-align: middle;\n",
       "    }\n",
       "\n",
       "    .dataframe tbody tr th {\n",
       "        vertical-align: top;\n",
       "    }\n",
       "\n",
       "    .dataframe thead th {\n",
       "        text-align: right;\n",
       "    }\n",
       "</style>\n",
       "<table border=\"1\" class=\"dataframe\">\n",
       "  <thead>\n",
       "    <tr style=\"text-align: right;\">\n",
       "      <th></th>\n",
       "      <th>0</th>\n",
       "      <th>1</th>\n",
       "    </tr>\n",
       "  </thead>\n",
       "  <tbody>\n",
       "    <tr>\n",
       "      <th>0</th>\n",
       "      <td>neutral</td>\n",
       "      <td>According to Gran , the company has no plans t...</td>\n",
       "    </tr>\n",
       "    <tr>\n",
       "      <th>1</th>\n",
       "      <td>neutral</td>\n",
       "      <td>Technopolis plans to develop in stages an area...</td>\n",
       "    </tr>\n",
       "    <tr>\n",
       "      <th>2</th>\n",
       "      <td>negative</td>\n",
       "      <td>The international electronic industry company ...</td>\n",
       "    </tr>\n",
       "    <tr>\n",
       "      <th>3</th>\n",
       "      <td>positive</td>\n",
       "      <td>With the new production plant the company woul...</td>\n",
       "    </tr>\n",
       "    <tr>\n",
       "      <th>4</th>\n",
       "      <td>positive</td>\n",
       "      <td>According to the company 's updated strategy f...</td>\n",
       "    </tr>\n",
       "  </tbody>\n",
       "</table>\n",
       "</div>"
      ],
      "text/plain": [
       "          0                                                  1\n",
       "0   neutral  According to Gran , the company has no plans t...\n",
       "1   neutral  Technopolis plans to develop in stages an area...\n",
       "2  negative  The international electronic industry company ...\n",
       "3  positive  With the new production plant the company woul...\n",
       "4  positive  According to the company 's updated strategy f..."
      ]
     },
     "execution_count": 1,
     "metadata": {},
     "output_type": "execute_result"
    }
   ],
   "source": [
    "import pandas as pd\n",
    "\n",
    "# Load dataset\n",
    "df = pd.read_csv('../data/all-data.csv', encoding='ISO-8859-1', header=None)\n",
    "\n",
    "# Preview the data\n",
    "print(\"Shape of data:\", df.shape)\n",
    "df.head()\n"
   ]
  },
  {
   "cell_type": "code",
   "execution_count": 2,
   "id": "46641ff9",
   "metadata": {},
   "outputs": [
    {
     "name": "stdout",
     "output_type": "stream",
     "text": [
      "Missing values:\n",
      " Sentiment        0\n",
      "News_Headline    0\n",
      "dtype: int64\n",
      "\n",
      "Sentiment Class Distribution:\n",
      "Sentiment\n",
      "neutral     2879\n",
      "positive    1363\n",
      "negative     604\n",
      "Name: count, dtype: int64\n"
     ]
    },
    {
     "data": {
      "text/html": [
       "<div>\n",
       "<style scoped>\n",
       "    .dataframe tbody tr th:only-of-type {\n",
       "        vertical-align: middle;\n",
       "    }\n",
       "\n",
       "    .dataframe tbody tr th {\n",
       "        vertical-align: top;\n",
       "    }\n",
       "\n",
       "    .dataframe thead th {\n",
       "        text-align: right;\n",
       "    }\n",
       "</style>\n",
       "<table border=\"1\" class=\"dataframe\">\n",
       "  <thead>\n",
       "    <tr style=\"text-align: right;\">\n",
       "      <th></th>\n",
       "      <th>Sentiment</th>\n",
       "      <th>News_Headline</th>\n",
       "    </tr>\n",
       "  </thead>\n",
       "  <tbody>\n",
       "    <tr>\n",
       "      <th>0</th>\n",
       "      <td>neutral</td>\n",
       "      <td>According to Gran , the company has no plans t...</td>\n",
       "    </tr>\n",
       "    <tr>\n",
       "      <th>1</th>\n",
       "      <td>neutral</td>\n",
       "      <td>Technopolis plans to develop in stages an area...</td>\n",
       "    </tr>\n",
       "    <tr>\n",
       "      <th>2</th>\n",
       "      <td>negative</td>\n",
       "      <td>The international electronic industry company ...</td>\n",
       "    </tr>\n",
       "    <tr>\n",
       "      <th>3</th>\n",
       "      <td>positive</td>\n",
       "      <td>With the new production plant the company woul...</td>\n",
       "    </tr>\n",
       "    <tr>\n",
       "      <th>4</th>\n",
       "      <td>positive</td>\n",
       "      <td>According to the company 's updated strategy f...</td>\n",
       "    </tr>\n",
       "  </tbody>\n",
       "</table>\n",
       "</div>"
      ],
      "text/plain": [
       "  Sentiment                                      News_Headline\n",
       "0   neutral  According to Gran , the company has no plans t...\n",
       "1   neutral  Technopolis plans to develop in stages an area...\n",
       "2  negative  The international electronic industry company ...\n",
       "3  positive  With the new production plant the company woul...\n",
       "4  positive  According to the company 's updated strategy f..."
      ]
     },
     "execution_count": 2,
     "metadata": {},
     "output_type": "execute_result"
    }
   ],
   "source": [
    "# Rename columns\n",
    "df.columns = ['Sentiment', 'News_Headline']\n",
    "\n",
    "# Check for missing values\n",
    "print(\"Missing values:\\n\", df.isnull().sum())\n",
    "\n",
    "# Show unique classes and their counts\n",
    "print(\"\\nSentiment Class Distribution:\")\n",
    "print(df['Sentiment'].value_counts())\n",
    "\n",
    "# Preview again\n",
    "df.head()\n"
   ]
  },
  {
   "cell_type": "code",
   "execution_count": 3,
   "id": "9e7dc39d",
   "metadata": {},
   "outputs": [
    {
     "data": {
      "text/html": [
       "<div>\n",
       "<style scoped>\n",
       "    .dataframe tbody tr th:only-of-type {\n",
       "        vertical-align: middle;\n",
       "    }\n",
       "\n",
       "    .dataframe tbody tr th {\n",
       "        vertical-align: top;\n",
       "    }\n",
       "\n",
       "    .dataframe thead th {\n",
       "        text-align: right;\n",
       "    }\n",
       "</style>\n",
       "<table border=\"1\" class=\"dataframe\">\n",
       "  <thead>\n",
       "    <tr style=\"text-align: right;\">\n",
       "      <th></th>\n",
       "      <th>Sentiment</th>\n",
       "      <th>Sentiment_Label</th>\n",
       "    </tr>\n",
       "  </thead>\n",
       "  <tbody>\n",
       "    <tr>\n",
       "      <th>0</th>\n",
       "      <td>neutral</td>\n",
       "      <td>1</td>\n",
       "    </tr>\n",
       "    <tr>\n",
       "      <th>1</th>\n",
       "      <td>neutral</td>\n",
       "      <td>1</td>\n",
       "    </tr>\n",
       "    <tr>\n",
       "      <th>2</th>\n",
       "      <td>negative</td>\n",
       "      <td>0</td>\n",
       "    </tr>\n",
       "    <tr>\n",
       "      <th>3</th>\n",
       "      <td>positive</td>\n",
       "      <td>2</td>\n",
       "    </tr>\n",
       "    <tr>\n",
       "      <th>4</th>\n",
       "      <td>positive</td>\n",
       "      <td>2</td>\n",
       "    </tr>\n",
       "  </tbody>\n",
       "</table>\n",
       "</div>"
      ],
      "text/plain": [
       "  Sentiment  Sentiment_Label\n",
       "0   neutral                1\n",
       "1   neutral                1\n",
       "2  negative                0\n",
       "3  positive                2\n",
       "4  positive                2"
      ]
     },
     "execution_count": 3,
     "metadata": {},
     "output_type": "execute_result"
    }
   ],
   "source": [
    "# Label Encoding\n",
    "label_mapping = {'negative': 0, 'neutral': 1, 'positive': 2}\n",
    "df['Sentiment_Label'] = df['Sentiment'].map(label_mapping)\n",
    "\n",
    "# Check if it worked\n",
    "df[['Sentiment', 'Sentiment_Label']].head()\n",
    "\n"
   ]
  },
  {
   "cell_type": "code",
   "execution_count": 4,
   "id": "35fe97a6",
   "metadata": {},
   "outputs": [],
   "source": [
    "import re\n",
    "import nltk\n",
    "import string\n",
    "from nltk.corpus import stopwords\n",
    "from nltk.stem import WordNetLemmatizer"
   ]
  },
  {
   "cell_type": "code",
   "execution_count": 6,
   "id": "70715db9",
   "metadata": {},
   "outputs": [
    {
     "name": "stderr",
     "output_type": "stream",
     "text": [
      "[nltk_data] Downloading package stopwords to C:\\Users\\SHIVANSHU\n",
      "[nltk_data]     SRIVASTAVA\\AppData\\Roaming\\nltk_data...\n",
      "[nltk_data]   Unzipping corpora\\stopwords.zip.\n",
      "[nltk_data] Downloading package wordnet to C:\\Users\\SHIVANSHU\n",
      "[nltk_data]     SRIVASTAVA\\AppData\\Roaming\\nltk_data...\n",
      "[nltk_data] Downloading package omw-1.4 to C:\\Users\\SHIVANSHU\n",
      "[nltk_data]     SRIVASTAVA\\AppData\\Roaming\\nltk_data...\n"
     ]
    },
    {
     "data": {
      "text/html": [
       "<div>\n",
       "<style scoped>\n",
       "    .dataframe tbody tr th:only-of-type {\n",
       "        vertical-align: middle;\n",
       "    }\n",
       "\n",
       "    .dataframe tbody tr th {\n",
       "        vertical-align: top;\n",
       "    }\n",
       "\n",
       "    .dataframe thead th {\n",
       "        text-align: right;\n",
       "    }\n",
       "</style>\n",
       "<table border=\"1\" class=\"dataframe\">\n",
       "  <thead>\n",
       "    <tr style=\"text-align: right;\">\n",
       "      <th></th>\n",
       "      <th>News_Headline</th>\n",
       "      <th>Cleaned_Headline</th>\n",
       "    </tr>\n",
       "  </thead>\n",
       "  <tbody>\n",
       "    <tr>\n",
       "      <th>0</th>\n",
       "      <td>According to Gran , the company has no plans t...</td>\n",
       "      <td>according gran company plan move production ru...</td>\n",
       "    </tr>\n",
       "    <tr>\n",
       "      <th>1</th>\n",
       "      <td>Technopolis plans to develop in stages an area...</td>\n",
       "      <td>technopolis plan develop stage area less squar...</td>\n",
       "    </tr>\n",
       "    <tr>\n",
       "      <th>2</th>\n",
       "      <td>The international electronic industry company ...</td>\n",
       "      <td>international electronic industry company elco...</td>\n",
       "    </tr>\n",
       "    <tr>\n",
       "      <th>3</th>\n",
       "      <td>With the new production plant the company woul...</td>\n",
       "      <td>new production plant company would increase ca...</td>\n",
       "    </tr>\n",
       "    <tr>\n",
       "      <th>4</th>\n",
       "      <td>According to the company 's updated strategy f...</td>\n",
       "      <td>according company updated strategy year baswar...</td>\n",
       "    </tr>\n",
       "  </tbody>\n",
       "</table>\n",
       "</div>"
      ],
      "text/plain": [
       "                                       News_Headline  \\\n",
       "0  According to Gran , the company has no plans t...   \n",
       "1  Technopolis plans to develop in stages an area...   \n",
       "2  The international electronic industry company ...   \n",
       "3  With the new production plant the company woul...   \n",
       "4  According to the company 's updated strategy f...   \n",
       "\n",
       "                                    Cleaned_Headline  \n",
       "0  according gran company plan move production ru...  \n",
       "1  technopolis plan develop stage area less squar...  \n",
       "2  international electronic industry company elco...  \n",
       "3  new production plant company would increase ca...  \n",
       "4  according company updated strategy year baswar...  "
      ]
     },
     "execution_count": 6,
     "metadata": {},
     "output_type": "execute_result"
    }
   ],
   "source": [
    "nltk.download('stopwords')\n",
    "nltk.download('wordnet')\n",
    "nltk.download('omw-1.4')\n",
    "\n",
    "stop_words = set(stopwords.words('english'))\n",
    "lemmatizer = WordNetLemmatizer()\n",
    "\n",
    "# Preprocessing function\n",
    "def clean_text(text):\n",
    "    text = text.lower()\n",
    "    text = re.sub(r'\\d+', '', text)  # remove numbers\n",
    "    text = text.translate(str.maketrans('', '', string.punctuation))  # remove punctuation\n",
    "    text = text.split()\n",
    "    text = [lemmatizer.lemmatize(word) for word in text if word not in stop_words]\n",
    "    return ' '.join(text)\n",
    "\n",
    "# Apply preprocessing\n",
    "df['Cleaned_Headline'] = df['News_Headline'].apply(clean_text)\n",
    "\n",
    "# Preview cleaned text\n",
    "df[['News_Headline', 'Cleaned_Headline']].head()\n",
    "\n",
    "\n",
    "\n"
   ]
  },
  {
   "cell_type": "code",
   "execution_count": 7,
   "id": "438062f9",
   "metadata": {},
   "outputs": [],
   "source": [
    "from sklearn.feature_extraction.text import TfidfVectorizer\n",
    "\n",
    "# Initialize TF-IDF\n",
    "tfidf = TfidfVectorizer(max_features=5000)  # You can change max_features as needed\n",
    "\n",
    "# Fit and transform the cleaned text\n",
    "X_tfidf = tfidf.fit_transform(df['Cleaned_Headline'])\n",
    "\n",
    "# Target labels\n",
    "y = df['Sentiment_Label']\n"
   ]
  },
  {
   "cell_type": "code",
   "execution_count": 8,
   "id": "31a0102f",
   "metadata": {},
   "outputs": [
    {
     "name": "stdout",
     "output_type": "stream",
     "text": [
      "TF-IDF Feature Matrix Shape: (4846, 5000)\n"
     ]
    }
   ],
   "source": [
    "print(\"TF-IDF Feature Matrix Shape:\", X_tfidf.shape)\n"
   ]
  },
  {
   "cell_type": "code",
   "execution_count": 9,
   "id": "56cf3d20",
   "metadata": {},
   "outputs": [
    {
     "name": "stdout",
     "output_type": "stream",
     "text": [
      "Train shape: (3876, 5000)\n",
      "Test shape: (970, 5000)\n"
     ]
    }
   ],
   "source": [
    "from sklearn.model_selection import train_test_split\n",
    "\n",
    "# Split the data: 80% training, 20% testing\n",
    "X_train, X_test, y_train, y_test = train_test_split(\n",
    "    X_tfidf, y, test_size=0.2, random_state=42, stratify=y\n",
    ")\n",
    "\n",
    "print(\"Train shape:\", X_train.shape)\n",
    "print(\"Test shape:\", X_test.shape)\n"
   ]
  },
  {
   "cell_type": "code",
   "execution_count": 10,
   "id": "8b0e8df1",
   "metadata": {},
   "outputs": [
    {
     "name": "stdout",
     "output_type": "stream",
     "text": [
      "Accuracy: 0.734020618556701\n",
      "\n",
      "Classification Report:\n",
      "               precision    recall  f1-score   support\n",
      "\n",
      "           0       0.75      0.45      0.56       121\n",
      "           1       0.74      0.93      0.82       576\n",
      "           2       0.71      0.46      0.56       273\n",
      "\n",
      "    accuracy                           0.73       970\n",
      "   macro avg       0.73      0.61      0.65       970\n",
      "weighted avg       0.73      0.73      0.71       970\n",
      "\n"
     ]
    }
   ],
   "source": [
    "from sklearn.linear_model import LogisticRegression\n",
    "from sklearn.metrics import classification_report, confusion_matrix, accuracy_score\n",
    "\n",
    "# Initialize and train the model\n",
    "lr_model = LogisticRegression(max_iter=1000)\n",
    "lr_model.fit(X_train, y_train)\n",
    "\n",
    "# Predict on test set\n",
    "y_pred = lr_model.predict(X_test)\n",
    "\n",
    "# Evaluation\n",
    "print(\"Accuracy:\", accuracy_score(y_test, y_pred))\n",
    "print(\"\\nClassification Report:\\n\", classification_report(y_test, y_pred))\n"
   ]
  },
  {
   "cell_type": "code",
   "execution_count": 11,
   "id": "cbd443ea",
   "metadata": {},
   "outputs": [
    {
     "name": "stdout",
     "output_type": "stream",
     "text": [
      "Random Forest Accuracy: 0.7360824742268042\n",
      "\n",
      "Classification Report:\n",
      "               precision    recall  f1-score   support\n",
      "\n",
      "           0       0.74      0.41      0.53       121\n",
      "           1       0.74      0.93      0.83       576\n",
      "           2       0.70      0.47      0.56       273\n",
      "\n",
      "    accuracy                           0.74       970\n",
      "   macro avg       0.73      0.60      0.64       970\n",
      "weighted avg       0.73      0.74      0.72       970\n",
      "\n"
     ]
    }
   ],
   "source": [
    "from sklearn.ensemble import RandomForestClassifier\n",
    "\n",
    "# Initialize and train the model\n",
    "rf_model = RandomForestClassifier(n_estimators=100, random_state=42)\n",
    "rf_model.fit(X_train, y_train)\n",
    "\n",
    "# Predict on test data\n",
    "rf_pred = rf_model.predict(X_test)\n",
    "\n",
    "# Evaluate performance\n",
    "print(\"Random Forest Accuracy:\", accuracy_score(y_test, rf_pred))\n",
    "print(\"\\nClassification Report:\\n\", classification_report(y_test, rf_pred))\n"
   ]
  },
  {
   "cell_type": "code",
   "execution_count": 12,
   "id": "46e87ef6",
   "metadata": {},
   "outputs": [
    {
     "name": "stderr",
     "output_type": "stream",
     "text": [
      "C:\\Users\\SHIVANSHU SRIVASTAVA\\AppData\\Roaming\\Python\\Python311\\site-packages\\xgboost\\training.py:183: UserWarning: [16:48:44] WARNING: C:\\actions-runner\\_work\\xgboost\\xgboost\\src\\learner.cc:738: \n",
      "Parameters: { \"use_label_encoder\" } are not used.\n",
      "\n",
      "  bst.update(dtrain, iteration=i, fobj=obj)\n"
     ]
    },
    {
     "name": "stdout",
     "output_type": "stream",
     "text": [
      "XGBoost Accuracy: 0.7422680412371134\n",
      "\n",
      "Classification Report:\n",
      "               precision    recall  f1-score   support\n",
      "\n",
      "           0       0.74      0.49      0.59       121\n",
      "           1       0.76      0.90      0.83       576\n",
      "           2       0.68      0.52      0.59       273\n",
      "\n",
      "    accuracy                           0.74       970\n",
      "   macro avg       0.73      0.64      0.67       970\n",
      "weighted avg       0.74      0.74      0.73       970\n",
      "\n"
     ]
    }
   ],
   "source": [
    "import xgboost as xgb\n",
    "from xgboost import XGBClassifier\n",
    "\n",
    "# Initialize and train XGBoost model\n",
    "xgb_model = XGBClassifier(use_label_encoder=False, eval_metric='mlogloss', random_state=42)\n",
    "xgb_model.fit(X_train, y_train)\n",
    "\n",
    "# Predict on test set\n",
    "xgb_pred = xgb_model.predict(X_test)\n",
    "\n",
    "# Evaluate performance\n",
    "print(\"XGBoost Accuracy:\", accuracy_score(y_test, xgb_pred))\n",
    "print(\"\\nClassification Report:\\n\", classification_report(y_test, xgb_pred))\n"
   ]
  },
  {
   "cell_type": "code",
   "execution_count": 13,
   "id": "9d5ec590",
   "metadata": {},
   "outputs": [
    {
     "name": "stdout",
     "output_type": "stream",
     "text": [
      "Logistic Regression: 0.7340\n",
      "Random Forest: 0.7361\n",
      "XGBoost: 0.7423\n"
     ]
    }
   ],
   "source": [
    "models = ['Logistic Regression', 'Random Forest', 'XGBoost']\n",
    "accuracies = [\n",
    "    accuracy_score(y_test, y_pred),  # y_pred is logistic regression predictions\n",
    "    accuracy_score(y_test, rf_pred),\n",
    "    accuracy_score(y_test, xgb_pred)\n",
    "]\n",
    "\n",
    "for name, acc in zip(models, accuracies):\n",
    "    print(f\"{name}: {acc:.4f}\")\n"
   ]
  },
  {
   "cell_type": "code",
   "execution_count": 14,
   "id": "fc77db4c",
   "metadata": {},
   "outputs": [
    {
     "name": "stderr",
     "output_type": "stream",
     "text": [
      "C:\\Users\\SHIVANSHU SRIVASTAVA\\AppData\\Local\\Temp\\ipykernel_35960\\1627319891.py:4: FutureWarning: YF.download() has changed argument auto_adjust default to True\n",
      "  stock_data = yf.download('AAPL', start='2021-01-01', end='2021-12-31')\n",
      "[*********************100%***********************]  1 of 1 completed"
     ]
    },
    {
     "name": "stdout",
     "output_type": "stream",
     "text": [
      "Price            Close        High         Low        Open     Volume\n",
      "Ticker            AAPL        AAPL        AAPL        AAPL       AAPL\n",
      "Date                                                                 \n",
      "2021-01-04  126.239708  130.336813  123.654626  130.249021  143301900\n",
      "2021-01-05  127.800507  128.512634  125.283710  125.732447   97664900\n",
      "2021-01-06  123.498528  127.839515  123.283916  124.591092  155088000\n",
      "2021-01-07  127.712700  128.405313  124.727667  125.215418  109578200\n",
      "2021-01-08  128.815018  129.380811  127.039597  129.185698  105158200\n"
     ]
    },
    {
     "name": "stderr",
     "output_type": "stream",
     "text": [
      "\n"
     ]
    }
   ],
   "source": [
    "import yfinance as yf\n",
    "\n",
    "# Example: Apple stock data\n",
    "stock_data = yf.download('AAPL', start='2021-01-01', end='2021-12-31')\n",
    "print(stock_data.head())\n"
   ]
  },
  {
   "cell_type": "code",
   "execution_count": 15,
   "id": "a2c59196",
   "metadata": {},
   "outputs": [
    {
     "name": "stdout",
     "output_type": "stream",
     "text": [
      "Price        Date       Close Price_Change Movement\n",
      "Ticker                   AAPL                      \n",
      "0      2021-01-04  126.239708     1.560799        1\n",
      "1      2021-01-05  127.800507    -4.301979        0\n",
      "2      2021-01-06  123.498528     4.214172        1\n",
      "3      2021-01-07  127.712700     1.102318        1\n",
      "4      2021-01-08  128.815018    -2.994804        0\n"
     ]
    }
   ],
   "source": [
    "# Reset index to get 'Date' column\n",
    "stock_data = stock_data.reset_index()\n",
    "\n",
    "# Calculate price movement (next day's close - today's close)\n",
    "stock_data['Price_Change'] = stock_data['Close'].shift(-1) - stock_data['Close']\n",
    "\n",
    "# Label UP (1) if next day's close is higher, else DOWN (0)\n",
    "stock_data['Movement'] = stock_data['Price_Change'].apply(lambda x: 1 if x > 0 else 0)\n",
    "\n",
    "# Drop last row since it has no future close price to compare\n",
    "stock_data = stock_data[:-1]\n",
    "\n",
    "# Show sample\n",
    "print(stock_data[['Date', 'Close', 'Price_Change', 'Movement']].head())\n"
   ]
  },
  {
   "cell_type": "code",
   "execution_count": 16,
   "id": "af9dcfef",
   "metadata": {},
   "outputs": [
    {
     "name": "stdout",
     "output_type": "stream",
     "text": [
      "        Date  Sentiment_Score\n",
      "0 2021-01-01         0.164474\n",
      "1 2021-01-02         0.225166\n",
      "2 2021-01-03         0.111111\n",
      "3 2021-01-04         0.236559\n",
      "4 2021-01-05         0.124260\n"
     ]
    }
   ],
   "source": [
    "# Assign sentiment scores\n",
    "sentiment_mapping = {'positive': 1, 'neutral': 0, 'negative': -1}\n",
    "\n",
    "# If your df does not have a 'Date' column, you need to add it or load it accordingly.\n",
    "# For demonstration, let's create a dummy 'Date' column (remove this if you already have dates).\n",
    "import numpy as np\n",
    "import pandas as pd\n",
    "\n",
    "if 'Date' not in df.columns:\n",
    "\tnp.random.seed(0)\n",
    "\tdf['Date'] = pd.to_datetime(\n",
    "\t\tnp.random.choice(pd.date_range('2021-01-01', periods=30), size=len(df))\n",
    "\t)\n",
    "\n",
    "df['Sentiment_Score'] = df['Sentiment'].map(sentiment_mapping)\n",
    "\n",
    "# Group by date and average sentiment score\n",
    "daily_sentiment = df.groupby('Date').agg({'Sentiment_Score': 'mean'}).reset_index()\n",
    "print(daily_sentiment.head())\n"
   ]
  },
  {
   "cell_type": "code",
   "execution_count": 20,
   "id": "3455a47d",
   "metadata": {},
   "outputs": [
    {
     "name": "stdout",
     "output_type": "stream",
     "text": [
      "Stock Data Columns: Index(['Date', 'Close_AAPL', 'High_AAPL', 'Low_AAPL', 'Open_AAPL',\n",
      "       'Volume_AAPL', 'Price_Change', 'Movement'],\n",
      "      dtype='object')\n",
      "Daily Sentiment Columns: Index(['Date', 'Sentiment_Score'], dtype='object')\n",
      "        Date  Close_AAPL   High_AAPL    Low_AAPL   Open_AAPL  Volume_AAPL  \\\n",
      "0 2021-01-04  126.239708  130.336813  123.654626  130.249021    143301900   \n",
      "1 2021-01-05  127.800507  128.512634  125.283710  125.732447     97664900   \n",
      "2 2021-01-06  123.498528  127.839515  123.283916  124.591092    155088000   \n",
      "3 2021-01-07  127.712700  128.405313  124.727667  125.215418    109578200   \n",
      "4 2021-01-08  128.815018  129.380811  127.039597  129.185698    105158200   \n",
      "\n",
      "   Price_Change  Movement  Sentiment_Score  \n",
      "0      1.560799         1         0.236559  \n",
      "1     -4.301979         0         0.124260  \n",
      "2      4.214172         1         0.127072  \n",
      "3      1.102318         1         0.130682  \n",
      "4     -2.994804         0         0.150289  \n"
     ]
    }
   ],
   "source": [
    "# Flatten MultiIndex columns in stock_data if present\n",
    "if isinstance(stock_data.columns, pd.MultiIndex):\n",
    "    stock_data.columns = ['_'.join([str(i) for i in col if i]).strip('_') for col in stock_data.columns.values]\n",
    "\n",
    "# 🔍 Print column names for debugging\n",
    "print(\"Stock Data Columns:\", stock_data.columns)\n",
    "print(\"Daily Sentiment Columns:\", daily_sentiment.columns)\n",
    "\n",
    "# ✅ Automatically detect and use the correct date column from stock_data\n",
    "date_col = None\n",
    "for col in stock_data.columns:\n",
    "    if 'date' in col.lower():\n",
    "        date_col = col\n",
    "        break\n",
    "\n",
    "if date_col is None:\n",
    "    raise ValueError(\"No date-like column found in stock_data!\")\n",
    "\n",
    "# 🧠 Now merge using the detected date column\n",
    "merged_df = pd.merge(stock_data, daily_sentiment, left_on=date_col, right_on='Date', how='inner')\n",
    "\n",
    "# Clean-up\n",
    "merged_df.dropna(inplace=True)\n",
    "merged_df.rename(columns={date_col: 'Date'}, inplace=True)\n",
    "\n",
    "# ✅ Preview merged data\n",
    "print(merged_df.head())\n",
    "\n"
   ]
  },
  {
   "cell_type": "code",
   "execution_count": 22,
   "id": "e243eda7",
   "metadata": {},
   "outputs": [],
   "source": [
    "import numpy as np\n",
    "\n",
    "# Sort by date (important for time series)\n",
    "merged_df.sort_values('Date', inplace=True)\n",
    "\n",
    "# Create lag features — past stock prices or sentiment scores\n",
    "merged_df['Prev_Close'] = merged_df['Close_AAPL'].shift(1)\n",
    "# Use Sentiment_Score as the sentiment feature (no 'compound' column in merged_df)\n",
    "merged_df['Prev_Sentiment'] = merged_df['Sentiment_Score'].shift(1)\n",
    "\n",
    "# Drop rows with NaN due to shift\n",
    "merged_df.dropna(inplace=True)\n",
    "\n",
    "# Target Variable: Predicting whether stock will go up or down\n",
    "merged_df['Price_Change'] = merged_df['Close_AAPL'] - merged_df['Prev_Close']\n",
    "merged_df['Target'] = (merged_df['Price_Change'] > 0).astype(int)\n",
    "\n",
    "# Final features\n",
    "features = ['Prev_Close', 'Prev_Sentiment']\n",
    "X = merged_df[features]\n",
    "y = merged_df['Target']\n"
   ]
  },
  {
   "cell_type": "code",
   "execution_count": 23,
   "id": "de2083f2",
   "metadata": {},
   "outputs": [],
   "source": [
    "from sklearn.model_selection import train_test_split\n",
    "\n",
    "X_train, X_test, y_train, y_test = train_test_split(\n",
    "    X, y, test_size=0.2, shuffle=False  # No shuffle due to time-series nature\n",
    ")\n"
   ]
  },
  {
   "cell_type": "code",
   "execution_count": 24,
   "id": "186445ce",
   "metadata": {},
   "outputs": [
    {
     "name": "stdout",
     "output_type": "stream",
     "text": [
      "Accuracy: 0.25\n",
      "              precision    recall  f1-score   support\n",
      "\n",
      "           0       0.00      0.00      0.00         3\n",
      "           1       0.25      1.00      0.40         1\n",
      "\n",
      "    accuracy                           0.25         4\n",
      "   macro avg       0.12      0.50      0.20         4\n",
      "weighted avg       0.06      0.25      0.10         4\n",
      "\n"
     ]
    },
    {
     "name": "stderr",
     "output_type": "stream",
     "text": [
      "C:\\Users\\SHIVANSHU SRIVASTAVA\\AppData\\Roaming\\Python\\Python311\\site-packages\\sklearn\\metrics\\_classification.py:1565: UndefinedMetricWarning: Precision is ill-defined and being set to 0.0 in labels with no predicted samples. Use `zero_division` parameter to control this behavior.\n",
      "  _warn_prf(average, modifier, f\"{metric.capitalize()} is\", len(result))\n",
      "C:\\Users\\SHIVANSHU SRIVASTAVA\\AppData\\Roaming\\Python\\Python311\\site-packages\\sklearn\\metrics\\_classification.py:1565: UndefinedMetricWarning: Precision is ill-defined and being set to 0.0 in labels with no predicted samples. Use `zero_division` parameter to control this behavior.\n",
      "  _warn_prf(average, modifier, f\"{metric.capitalize()} is\", len(result))\n",
      "C:\\Users\\SHIVANSHU SRIVASTAVA\\AppData\\Roaming\\Python\\Python311\\site-packages\\sklearn\\metrics\\_classification.py:1565: UndefinedMetricWarning: Precision is ill-defined and being set to 0.0 in labels with no predicted samples. Use `zero_division` parameter to control this behavior.\n",
      "  _warn_prf(average, modifier, f\"{metric.capitalize()} is\", len(result))\n"
     ]
    }
   ],
   "source": [
    "from sklearn.linear_model import LogisticRegression\n",
    "from sklearn.metrics import classification_report, accuracy_score\n",
    "\n",
    "model = LogisticRegression()\n",
    "model.fit(X_train, y_train)\n",
    "\n",
    "y_pred = model.predict(X_test)\n",
    "print(\"Accuracy:\", accuracy_score(y_test, y_pred))\n",
    "print(classification_report(y_test, y_pred))\n"
   ]
  },
  {
   "cell_type": "code",
   "execution_count": 25,
   "id": "525d7a39",
   "metadata": {},
   "outputs": [
    {
     "data": {
      "image/png": "[encoded data removed]",
      "text/plain": [
       "<Figure size 1000x400 with 1 Axes>"
      ]
     },
     "metadata": {},
     "output_type": "display_data"
    }
   ],
   "source": [
    "import matplotlib.pyplot as plt\n",
    "\n",
    "plt.figure(figsize=(10, 4))\n",
    "plt.plot(y_test.values, label=\"Actual\")\n",
    "plt.plot(y_pred, label=\"Predicted\", linestyle='--')\n",
    "plt.legend()\n",
    "plt.title(\"Stock Movement Prediction (0 = Down, 1 = Up)\")\n",
    "plt.show()\n"
   ]
  },
  {
   "cell_type": "code",
   "execution_count": 26,
   "id": "974bfb64",
   "metadata": {},
   "outputs": [
    {
     "data": {
      "image/png": "[encoded data removed]",
      "text/plain": [
       "<Figure size 640x480 with 2 Axes>"
      ]
     },
     "metadata": {},
     "output_type": "display_data"
    }
   ],
   "source": [
    "from sklearn.metrics import confusion_matrix\n",
    "import seaborn as sns\n",
    "\n",
    "cm = confusion_matrix(y_test, y_pred)\n",
    "sns.heatmap(cm, annot=True, fmt=\"d\", cmap=\"Blues\")\n",
    "plt.title(\"Confusion Matrix\")\n",
    "plt.xlabel(\"Predicted\")\n",
    "plt.ylabel(\"Actual\")\n",
    "plt.show()\n"
   ]
  },
  {
   "cell_type": "code",
   "execution_count": 32,
   "id": "3c5a4d31",
   "metadata": {},
   "outputs": [
    {
     "data": {
      "text/plain": [
       "['sentiment_stock_model.pkl']"
      ]
     },
     "execution_count": 32,
     "metadata": {},
     "output_type": "execute_result"
    }
   ],
   "source": [
    "import joblib\n",
    "\n",
    "joblib.dump(model, 'sentiment_stock_model.pkl')\n"
   ]
  },
  {
   "cell_type": "code",
   "execution_count": 33,
   "id": "f4f00d6f",
   "metadata": {},
   "outputs": [],
   "source": [
    "model = joblib.load('sentiment_stock_model.pkl')\n",
    "\n"
   ]
  },
  {
   "cell_type": "code",
   "execution_count": 34,
   "id": "3762a796",
   "metadata": {},
   "outputs": [
    {
     "name": "stdout",
     "output_type": "stream",
     "text": [
      "Random Forest Accuracy: 0.25\n"
     ]
    }
   ],
   "source": [
    "from sklearn.ensemble import RandomForestClassifier\n",
    "\n",
    "rf_model = RandomForestClassifier()\n",
    "rf_model.fit(X_train, y_train)\n",
    "rf_preds = rf_model.predict(X_test)\n",
    "print(\"Random Forest Accuracy:\", accuracy_score(y_test, rf_preds))\n"
   ]
  },
  {
   "cell_type": "code",
   "execution_count": 35,
   "id": "f6d95384",
   "metadata": {},
   "outputs": [
    {
     "data": {
      "text/plain": [
       "['sentiment_model.pkl']"
      ]
     },
     "execution_count": 35,
     "metadata": {},
     "output_type": "execute_result"
    }
   ],
   "source": [
    "import joblib\n",
    "\n",
    "# After training\n",
    "joblib.dump(tfidf, 'tfidf_vectorizer.pkl')\n",
    "joblib.dump(model, 'sentiment_model.pkl')\n"
   ]
  },
  {
   "cell_type": "code",
   "execution_count": null,
   "id": "e67f74e2",
   "metadata": {},
   "outputs": [],
   "source": []
  }
 ],
 "metadata": {
  "kernelspec": {
   "display_name": "Python 3",
   "language": "python",
   "name": "python3"
  },
  "language_info": {
   "codemirror_mode": {
    "name": "ipython",
    "version": 3
   },
   "file_extension": ".py",
   "mimetype": "text/x-python",
   "name": "python",
   "nbconvert_exporter": "python",
   "pygments_lexer": "ipython3",
   "version": "3.11.5"
  }
 },
 "nbformat": 4,
 "nbformat_minor": 5
}
